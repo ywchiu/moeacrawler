{
 "cells": [
  {
   "cell_type": "markdown",
   "metadata": {},
   "source": [
    "## Python 基礎"
   ]
  },
  {
   "cell_type": "code",
   "execution_count": 1,
   "metadata": {
    "collapsed": false
   },
   "outputs": [
    {
     "data": {
      "text/plain": [
       "8"
      ]
     },
     "execution_count": 1,
     "metadata": {},
     "output_type": "execute_result"
    }
   ],
   "source": [
    "a = 3\n",
    "a + 5"
   ]
  },
  {
   "cell_type": "code",
   "execution_count": 3,
   "metadata": {
    "collapsed": false
   },
   "outputs": [
    {
     "name": "stdout",
     "output_type": "stream",
     "text": [
      "hello world\n"
     ]
    }
   ],
   "source": [
    "a = 'hello world'\n",
    "print a"
   ]
  },
  {
   "cell_type": "markdown",
   "metadata": {},
   "source": [
    "## 使用GET 取得網頁資料"
   ]
  },
  {
   "cell_type": "code",
   "execution_count": 5,
   "metadata": {
    "collapsed": false
   },
   "outputs": [],
   "source": [
    "import requests\n",
    "res = requests.get('http://www.appledaily.com.tw/realtimenews/section/new/')\n",
    "#print res.text"
   ]
  },
  {
   "cell_type": "markdown",
   "metadata": {},
   "source": [
    "## 使用POST取得資料"
   ]
  },
  {
   "cell_type": "code",
   "execution_count": 7,
   "metadata": {
    "collapsed": false,
    "scrolled": false
   },
   "outputs": [],
   "source": [
    "import requests\n",
    "payload = {\n",
    "'StartStation':'977abb69-413a-4ccf-a109-0272c24fd490',\n",
    "'EndStation':'f2519629-5973-4d08-913b-479cce78a356',\n",
    "'SearchDate':'2016/07/15',\n",
    "'SearchTime':'12:00',\n",
    "'SearchWay':'DepartureInMandarin',\n",
    "}\n",
    "\n",
    "res = requests.post('https://www.thsrc.com.tw/tw/TimeTable/SearchResult', data=payload)\n",
    "#print res.text"
   ]
  },
  {
   "cell_type": "markdown",
   "metadata": {},
   "source": [
    "## 使用BeautifulSoup"
   ]
  },
  {
   "cell_type": "code",
   "execution_count": 9,
   "metadata": {
    "collapsed": false
   },
   "outputs": [],
   "source": [
    "from bs4 import BeautifulSoup \n",
    "html_sample = ' \\\n",
    "<html> \\\n",
    " <body> \\\n",
    " <h1 id=\"title\">Hello World</h1> \\\n",
    " <a href=\"#\" class=\"link\">This is link1</a> \\\n",
    " <a href=\"# link2\" class=\"link\">This is link2</a> \\\n",
    " </body> \\\n",
    " </html>'\n",
    "\n",
    "soup = BeautifulSoup(html_sample)\n",
    "#print soup.text"
   ]
  },
  {
   "cell_type": "code",
   "execution_count": 13,
   "metadata": {
    "collapsed": false
   },
   "outputs": [
    {
     "name": "stdout",
     "output_type": "stream",
     "text": [
      "[<a class=\"link\" href=\"#\">This is link1</a>, <a class=\"link\" href=\"# link2\">This is link2</a>]\n",
      "[<h1 id=\"title\">Hello World</h1>]\n",
      "[<a class=\"link\" href=\"#\">This is link1</a>, <a class=\"link\" href=\"# link2\">This is link2</a>]\n"
     ]
    }
   ],
   "source": [
    "print soup.select('a')\n",
    "print soup.select('#title')\n",
    "print soup.select('.link')"
   ]
  },
  {
   "cell_type": "markdown",
   "metadata": {},
   "source": [
    "## 抓取蘋果即時新聞"
   ]
  },
  {
   "cell_type": "code",
   "execution_count": 20,
   "metadata": {
    "collapsed": false
   },
   "outputs": [
    {
     "name": "stdout",
     "output_type": "stream",
     "text": [
      "【超狂獨家】小資會計盜領2億　全敗愛馬仕...(221353) 社會 11:53\n",
      "【民報/醫病平台】醫病配合之我思(0) 生活 11:53\n",
      "馬尾妹勾郎曬恩愛　怪味害他們GG了(0) 社會 11:52\n",
      "南海仲裁損害臺灣國家利益(0) 論壇 11:51\n",
      "超夢幻！寶可夢徵才　「愛抓精靈」是條件之...(12199) 國際 11:50\n",
      "新北公寓清晨惡火　燒毀4戶1死2傷(11286) 社會 11:50\n",
      "戴立忍政治立場模糊　遭趙薇中國新片撤換！(0) 娛樂 11:50\n",
      "蔡英文勿登島提油救火(112) 論壇 11:48\n",
      "法國慶遭恐攻　希拉蕊：與極端聖戰士交戰(27) 國際 11:47\n",
      "【台鐵爆炸偵查】林英昌齒舌遭炸　能輕聲應...(8) 社會 11:46\n",
      "【央廣RTI】蜘蛛女之吻導演去世 享年7...(9) 國際 11:45\n",
      "英聽報名費降價　中低收入戶減逾百元(3) 生活 11:45\n",
      "【壹週刊】防ATM大盜出境　移民署繃緊神...(0) 壹週刊 11:45\n",
      "海邊賞煙火遇恐攻　尼斯上百人跳海逃生(648) 國際 11:44\n",
      "暑期打工旺季到　當心成為逃稅人頭(85) 財經 11:44\n",
      "【台灣之夜】安溥、旺福紐約中央公園開唱　...(1515) 娛樂 11:40\n",
      "北市地價跌幅1.52%全國最大　內政部：...(222) 政治 11:40\n",
      "跨海吸金1.1億　香港格上汽車負責人起訴(277) 社會 11:40\n",
      "中秋連假國內離島機票　遠航18日開賣(105) 生活 11:39\n",
      "【尼斯恐襲】兇手朝人群開槍　民眾驚悚躲餐...(45524) 國際 11:38\n",
      "【不斷更新】法國慶恐攻80死　宣布延長緊...(228837) 國際 11:37\n",
      "紓解周末南下人潮　高鐵今晚自台北站加開一...(334) 生活 11:37\n",
      "你沒看錯！　588坪超級豪墅就在台南(1654) 地產 11:36\n",
      "【更新】要求小英國情報告　國民黨杯葛院會...(6088) 政治 11:35\n",
      "【你爆蘋果報】花三千網拍買到空氣　賣家神...(690) 生活 11:35\n",
      "【有片】綠委討國民黨產　蔡正元批：討太平...(2069) 政治 11:35\n",
      "注意！LINE慶祝IPO送免費貼圖活動　...(245) 生活 11:35\n",
      "聯發科除息　填息逾4成(137) 財經 11:34\n",
      "校外教學獨留他　小四童阿嬤：將轉學(1826) 生活 11:31\n",
      "吉高由里子戀情曝光　竟和「關8」男星同居(1259) 娛樂 11:30\n"
     ]
    }
   ],
   "source": [
    "import requests\n",
    "from bs4 import BeautifulSoup\n",
    "res = requests.get('http://www.appledaily.com.tw/realtimenews/section/new/')\n",
    "#print res.text\n",
    "soup = BeautifulSoup(res.text)\n",
    "for rtddt in soup.select('.rtddt'):\n",
    "    print rtddt.select('h1')[0].text, \\\n",
    "          rtddt.select('h2')[0].text, \\\n",
    "          rtddt.select('time')[0].text"
   ]
  },
  {
   "cell_type": "markdown",
   "metadata": {},
   "source": [
    "## 找出最熱門新聞"
   ]
  },
  {
   "cell_type": "code",
   "execution_count": 35,
   "metadata": {
    "collapsed": false
   },
   "outputs": [],
   "source": [
    "import requests\n",
    "import re\n",
    "from bs4 import BeautifulSoup\n",
    "import pandas as pd\n",
    "ary = []\n",
    "for page in range(1,50):\n",
    "    res = requests.get('http://www.appledaily.com.tw/realtimenews/section/new/{}'.format(page))\n",
    "    #print res.text\n",
    "    soup = BeautifulSoup(res.text)\n",
    "    for rtddt in soup.select('.rtddt'):\n",
    "        m = re.match('.*?\\((\\d+)\\)',rtddt.select('h1')[0].text)\n",
    "        if m:\n",
    "            ary.append({'title':rtddt.select('h1')[0].text, \\\n",
    "                  'category':rtddt.select('h2')[0].text, \\\n",
    "                  'time':rtddt.select('time')[0].text, \\\n",
    "                  'clicked':int(m.group(1))})"
   ]
  },
  {
   "cell_type": "code",
   "execution_count": 36,
   "metadata": {
    "collapsed": false
   },
   "outputs": [],
   "source": [
    "import pandas as pd\n",
    "df = pd.DataFrame(ary)"
   ]
  },
  {
   "cell_type": "code",
   "execution_count": 38,
   "metadata": {
    "collapsed": false
   },
   "outputs": [
    {
     "data": {
      "text/html": [
       "<div>\n",
       "<table border=\"1\" class=\"dataframe\">\n",
       "  <thead>\n",
       "    <tr style=\"text-align: right;\">\n",
       "      <th></th>\n",
       "      <th>category</th>\n",
       "      <th>clicked</th>\n",
       "      <th>time</th>\n",
       "      <th>title</th>\n",
       "    </tr>\n",
       "  </thead>\n",
       "  <tbody>\n",
       "    <tr>\n",
       "      <th>311</th>\n",
       "      <td>娛樂</td>\n",
       "      <td>702194</td>\n",
       "      <td>22:43</td>\n",
       "      <td>【獨家直擊】林心如孕肚首曝光　霍建華喝茫...(702194)</td>\n",
       "    </tr>\n",
       "    <tr>\n",
       "      <th>1035</th>\n",
       "      <td>社會</td>\n",
       "      <td>530944</td>\n",
       "      <td>22:42</td>\n",
       "      <td>急診室毆4護理師　女兒：對方態度不好(530944)</td>\n",
       "    </tr>\n",
       "    <tr>\n",
       "      <th>554</th>\n",
       "      <td>社會</td>\n",
       "      <td>512949</td>\n",
       "      <td>17:12</td>\n",
       "      <td>願用鮑鮑換包包　長腿嫩妹睡猥瑣大叔(512949)</td>\n",
       "    </tr>\n",
       "    <tr>\n",
       "      <th>1284</th>\n",
       "      <td>社會</td>\n",
       "      <td>502306</td>\n",
       "      <td>17:10</td>\n",
       "      <td>【影片曝光】沙鹿光田急診室暴力 一家5口...(502306)</td>\n",
       "    </tr>\n",
       "    <tr>\n",
       "      <th>1197</th>\n",
       "      <td>3C</td>\n",
       "      <td>433753</td>\n",
       "      <td>18:50</td>\n",
       "      <td>【免驚啦】台版《Pokémon GO》會...(433753)</td>\n",
       "    </tr>\n",
       "  </tbody>\n",
       "</table>\n",
       "</div>"
      ],
      "text/plain": [
       "     category  clicked   time                            title\n",
       "311        娛樂   702194  22:43  【獨家直擊】林心如孕肚首曝光　霍建華喝茫...(702194)\n",
       "1035       社會   530944  22:42       急診室毆4護理師　女兒：對方態度不好(530944)\n",
       "554        社會   512949  17:12        願用鮑鮑換包包　長腿嫩妹睡猥瑣大叔(512949)\n",
       "1284       社會   502306  17:10  【影片曝光】沙鹿光田急診室暴力 一家5口...(502306)\n",
       "1197       3C   433753  18:50  【免驚啦】台版《Pokémon GO》會...(433753)"
      ]
     },
     "execution_count": 38,
     "metadata": {},
     "output_type": "execute_result"
    }
   ],
   "source": [
    "df.sort_values(['clicked'], ascending=False).head()"
   ]
  },
  {
   "cell_type": "code",
   "execution_count": 42,
   "metadata": {
    "collapsed": false
   },
   "outputs": [
    {
     "data": {
      "text/plain": [
       "category\n",
       "3C     21426.342857\n",
       "副刊      9161.736842\n",
       "動物      5527.592593\n",
       "國際     11505.546358\n",
       "地產      9342.370370\n",
       "壹週刊    14490.909091\n",
       "娛樂     32211.958763\n",
       "政治     13202.754098\n",
       "時尚      4065.758621\n",
       "正妹     58571.333333\n",
       "生活     14195.889286\n",
       "社會     42006.536145\n",
       "論壇      3028.200000\n",
       "財經      6406.637681\n",
       "體育      9659.975610\n",
       "Name: clicked, dtype: float64"
      ]
     },
     "execution_count": 42,
     "metadata": {},
     "output_type": "execute_result"
    }
   ],
   "source": [
    "df.groupby(['category'])['clicked'].mean()"
   ]
  },
  {
   "cell_type": "markdown",
   "metadata": {},
   "source": [
    "## 抓取三大法人買賣金額的資料"
   ]
  },
  {
   "cell_type": "code",
   "execution_count": 45,
   "metadata": {
    "collapsed": false
   },
   "outputs": [
    {
     "data": {
      "text/html": [
       "<div>\n",
       "<table border=\"1\" class=\"dataframe\">\n",
       "  <thead>\n",
       "    <tr style=\"text-align: right;\">\n",
       "      <th></th>\n",
       "      <th>0</th>\n",
       "      <th>1</th>\n",
       "      <th>2</th>\n",
       "      <th>3</th>\n",
       "    </tr>\n",
       "  </thead>\n",
       "  <tbody>\n",
       "    <tr>\n",
       "      <th>0</th>\n",
       "      <td>105年07月14日  三大法人買賣金額統計表(元)</td>\n",
       "      <td>NaN</td>\n",
       "      <td>NaN</td>\n",
       "      <td>NaN</td>\n",
       "    </tr>\n",
       "    <tr>\n",
       "      <th>1</th>\n",
       "      <td>單位名稱</td>\n",
       "      <td>買進金額</td>\n",
       "      <td>賣出金額</td>\n",
       "      <td>買賣差額</td>\n",
       "    </tr>\n",
       "    <tr>\n",
       "      <th>2</th>\n",
       "      <td>自營商(自行買賣)</td>\n",
       "      <td>1288922440</td>\n",
       "      <td>1085535630</td>\n",
       "      <td>203386810</td>\n",
       "    </tr>\n",
       "    <tr>\n",
       "      <th>3</th>\n",
       "      <td>自營商(避險)</td>\n",
       "      <td>4575097920</td>\n",
       "      <td>5874751149</td>\n",
       "      <td>-1299653229</td>\n",
       "    </tr>\n",
       "    <tr>\n",
       "      <th>4</th>\n",
       "      <td>投信</td>\n",
       "      <td>1244746710</td>\n",
       "      <td>1088967396</td>\n",
       "      <td>155779314</td>\n",
       "    </tr>\n",
       "    <tr>\n",
       "      <th>5</th>\n",
       "      <td>外資及陸資</td>\n",
       "      <td>29563576284</td>\n",
       "      <td>22494403983</td>\n",
       "      <td>7069172301</td>\n",
       "    </tr>\n",
       "    <tr>\n",
       "      <th>6</th>\n",
       "      <td>合計</td>\n",
       "      <td>36672343354</td>\n",
       "      <td>30543658158</td>\n",
       "      <td>6128685196</td>\n",
       "    </tr>\n",
       "  </tbody>\n",
       "</table>\n",
       "</div>"
      ],
      "text/plain": [
       "                            0            1            2            3\n",
       "0  105年07月14日  三大法人買賣金額統計表(元)          NaN          NaN          NaN\n",
       "1                        單位名稱         買進金額         賣出金額         買賣差額\n",
       "2                   自營商(自行買賣)   1288922440   1085535630    203386810\n",
       "3                     自營商(避險)   4575097920   5874751149  -1299653229\n",
       "4                          投信   1244746710   1088967396    155779314\n",
       "5                       外資及陸資  29563576284  22494403983   7069172301\n",
       "6                          合計  36672343354  30543658158   6128685196"
      ]
     },
     "execution_count": 45,
     "metadata": {},
     "output_type": "execute_result"
    }
   ],
   "source": [
    "import pandas\n",
    "dfs = pandas.read_html('http://www.twse.com.tw/ch/trading/fund/BFI82U/BFI82U.php')\n",
    "dfs[7]"
   ]
  },
  {
   "cell_type": "markdown",
   "metadata": {},
   "source": [
    "## 抓取網路圖片"
   ]
  },
  {
   "cell_type": "code",
   "execution_count": 46,
   "metadata": {
    "collapsed": true
   },
   "outputs": [],
   "source": [
    "import requests\n",
    "import shutil\n",
    "res = requests.get('http://web.cartoonmad.com/c86cs736v62/1152/832/001.jpg', stream=True)\n",
    "with open('001.jpg', 'wb') as f:\n",
    "    shutil.copyfileobj(res.raw, f)"
   ]
  },
  {
   "cell_type": "markdown",
   "metadata": {},
   "source": [
    "## 抓取PCHOME 價格資料"
   ]
  },
  {
   "cell_type": "code",
   "execution_count": 48,
   "metadata": {
    "collapsed": false
   },
   "outputs": [
    {
     "name": "stdout",
     "output_type": "stream",
     "text": [
      "try{jsonp_prod({\"DGAX7H-A9006K8DL-000\":{\"Seq\":14456050,\"Id\":\"DGAX7H-A9006K8DL-000\",\"Name\":\"MacBook Pro 13 \\u540b\\uff1a2.7GHz 128GB (MF839TA\\/A)\",\"Nick\":\"<b><strong><font color=\\\"#ff0000\\\">\\u8cfc\\u8cb7\\u7acb\\u5373\\u4eab\\u552e\\u50f98%\\u56de\\u994b(\\u552e\\u50f9\\u5df2\\u6298)<\\/font><\\/strong><\\/b><br>MacBook Pro 13 \\u540b\\uff1a2.7GHz 128GB (MF839TA\\/A)  \",\"Store\":\"DGAX7H\",\"PreOrdDate\":\"\",\"SpeOrdDate\":\"\",\"Price\":{\"M\":0,\"P\":38548},\"Discount\":0,\"Pic\":{\"B\":\"\\/pic\\/v1\\/data\\/item\\/201607\\/D\\/G\\/A\\/X\\/7\\/H\\/DGAX7H-A9006K8DL000_5779c58c9ec4a.jpg\",\"S\":\"\\/pic\\/v1\\/data\\/item\\/201510\\/D\\/G\\/A\\/X\\/7\\/H\\/sDGAX7H-A9006K8DL000_561f1ab9aa2a1.jpg\"},\"Weight\":3.18,\"ISBN\":\"\",\"Qty\":1,\"Bonus\":0,\"isBig\":0,\"isSpec\":0,\"isCombine\":0,\"isDiy\":0,\"isRecyclable\":0,\"isCarrier\":0,\"isMedical\":0,\"isBigCart\":1,\"isSnapUp\":0,\"isDescAndIntroSync\":0,\"isFoodContents\":0,\"isHuge\":0,\"isEnergySubsidy\":0}});}catch(e){if(window.console){console.log(e);}}\n"
     ]
    }
   ],
   "source": [
    "import requests\n",
    "res = requests.get('http://ecapi.pchome.com.tw/ecshop/prodapi/v2/prod/DGAX7H-A9006K8DL-000&store=DGAX7H&fields=Seq,Id,Name,Nick,Store,PreOrdDate,SpeOrdDate,Price,Discount,Pic,Weight,ISBN,Qty,Bonus,isBig,isSpec,isCombine,isDiy,isRecyclable,isCarrier,isMedical,isBigCart,isSnapUp,isDescAndIntroSync,isFoodContents,isHuge,isEnergySubsidy&_callback=jsonp_prod?_callback=jsonp_prod')\n",
    "print res.text"
   ]
  },
  {
   "cell_type": "markdown",
   "metadata": {},
   "source": [
    "## 抓取需要標頭的資料"
   ]
  },
  {
   "cell_type": "code",
   "execution_count": 55,
   "metadata": {
    "collapsed": false
   },
   "outputs": [],
   "source": [
    "import requests\n",
    "headers = {\n",
    "    #'User-Agent':'pokemon'\n",
    "    'User-Agent':'Mozilla/5.0 (Windows NT 6.1; WOW64) AppleWebKit/537.36 (KHTML, like Gecko) Chrome/51.0.2704.103 Safari/537.36'\n",
    "}\n",
    "res = requests.get('http://ck101.com/', headers = headers)\n",
    "#print res.text"
   ]
  },
  {
   "cell_type": "markdown",
   "metadata": {},
   "source": [
    "## 抓取財報狗的資料"
   ]
  },
  {
   "cell_type": "code",
   "execution_count": 57,
   "metadata": {
    "collapsed": false
   },
   "outputs": [],
   "source": [
    "import requests\n",
    "payload = {\n",
    "'utf8':'✓',\n",
    "'authenticity_token':'/cTph8GiD6fAnFoH5UG/WWhc3qhPMlq/c8SnAqlzpH5Hn0NPuQAwCTIY9voBm9GfPMzsqQeHZ7IC1SVwxBUdUg==',\n",
    "'user[email]':'kaikouu@gmx.com',\n",
    "'user[password]':'',\n",
    "'user[remember_me]':'1' \n",
    "}\n",
    "rs = requests.session()\n",
    "res = rs.post('https://statementdog.com/users/sign_in', data=payload)\n",
    "res2 = rs.get('https://statementdog.com/users/login_success')\n",
    "#print res2.text"
   ]
  },
  {
   "cell_type": "code",
   "execution_count": null,
   "metadata": {
    "collapsed": true
   },
   "outputs": [],
   "source": []
  }
 ],
 "metadata": {
  "kernelspec": {
   "display_name": "Python 2",
   "language": "python",
   "name": "python2"
  },
  "language_info": {
   "codemirror_mode": {
    "name": "ipython",
    "version": 2
   },
   "file_extension": ".py",
   "mimetype": "text/x-python",
   "name": "python",
   "nbconvert_exporter": "python",
   "pygments_lexer": "ipython2",
   "version": "2.7.12"
  }
 },
 "nbformat": 4,
 "nbformat_minor": 0
}
